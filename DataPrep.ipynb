{
 "cells": [
  {
   "cell_type": "markdown",
   "metadata": {
    "collapsed": true
   },
   "source": [
    "Data preparation"
   ]
  },
  {
   "cell_type": "code",
   "execution_count": 1,
   "metadata": {},
   "outputs": [],
   "source": [
    "import numpy as np\n",
    "import pandas as pd\n",
    "import matplotlib.pyplot as plt\n",
    "%matplotlib inline"
   ]
  },
  {
   "cell_type": "code",
   "execution_count": 2,
   "metadata": {},
   "outputs": [],
   "source": [
    "reviews = pd.read_csv('https://raw.githubusercontent.com/Manoj-A-Thomas/data/data/winemag-data_first150k.csv', index_col=0)"
   ]
  },
  {
   "cell_type": "code",
   "execution_count": 4,
   "metadata": {},
   "outputs": [
    {
     "name": "stdout",
     "output_type": "stream",
     "text": [
      "<class 'pandas.core.frame.DataFrame'>\nInt64Index: 150930 entries, 0 to 150929\nData columns (total 10 columns):\ncountry        150925 non-null object\ndescription    150930 non-null object\ndesignation    105195 non-null object\npoints         150930 non-null int64\nprice          137235 non-null float64\nprovince       150925 non-null object\nregion_1       125870 non-null object\nregion_2       60953 non-null object\nvariety        150930 non-null object\nwinery         150930 non-null object\ndtypes: float64(1), int64(1), object(8)\nmemory usage: 12.7+ MB\n"
     ]
    }
   ],
   "source": [
    "reviews.info()\n"
   ]
  },
  {
   "cell_type": "markdown",
   "metadata": {},
   "source": [
    "Looking only at country, province, points, price"
   ]
  },
  {
   "cell_type": "code",
   "execution_count": 5,
   "metadata": {},
   "outputs": [
    {
     "data": {
      "text/plain": [
       "0         96.0\n1         96.0\n2         96.0\n3         96.0\n4         95.0\n5         95.0\n6         95.0\n7         95.0\n8         95.0\n9         95.0\n10        95.0\n11        95.0\n12        95.0\n13        95.0\n14        95.0\n15        95.0\n16        95.0\n17        95.0\n18        95.0\n19        95.0\n20        95.0\n21        95.0\n22        95.0\n23        95.0\n24        95.0\n25        94.0\n26        94.0\n27        94.0\n28        94.0\n29        94.0\n          ... \n150900    81.0\n150901    81.0\n150902    81.0\n150903    81.0\n150904    81.0\n150905    80.0\n150906    93.0\n150907    92.0\n150908    90.0\n150909    89.0\n150910    89.0\n150911    87.0\n150912    87.0\n150913    94.0\n150914    94.0\n150915    93.0\n150916    93.0\n150917    92.0\n150918    92.0\n150919    91.0\n150920    91.0\n150921    91.0\n150922    91.0\n150923    91.0\n150924    91.0\n150925    91.0\n150926    91.0\n150927    91.0\n150928    90.0\n150929    90.0\nName: points, Length: 150930, dtype: float64"
      ]
     },
     "execution_count": 5,
     "metadata": {},
     "output_type": "execute_result"
    }
   ],
   "source": [
    "# change col dtype\n",
    "reviews.points.astype('float64')"
   ]
  },
  {
   "cell_type": "code",
   "execution_count": 12,
   "metadata": {},
   "outputs": [
    {
     "name": "stdout",
     "output_type": "stream",
     "text": [
      "<class 'pandas.core.frame.DataFrame'>\nInt64Index: 150925 entries, 0 to 150929\nData columns (total 10 columns):\ncountry        150925 non-null object\ndescription    150925 non-null object\ndesignation    105190 non-null object\npoints         150925 non-null int64\nprice          137230 non-null float64\nprovince       150925 non-null object\nregion_1       125870 non-null object\nregion_2       60953 non-null object\nvariety        150925 non-null object\nwinery         150925 non-null object\ndtypes: float64(1), int64(1), object(8)\nmemory usage: 12.7+ MB\n"
     ]
    }
   ],
   "source": [
    "reviews.info()"
   ]
  },
  {
   "cell_type": "code",
   "execution_count": 13,
   "metadata": {},
   "outputs": [
    {
     "data": {
      "text/plain": [
       "country         0\nprovince        0\npoints          0\nprice       13695\ndtype: int64"
      ]
     },
     "execution_count": 13,
     "metadata": {},
     "output_type": "execute_result"
    }
   ],
   "source": [
    "# find missing value counts\n",
    "reviews[['country','province','points','price']].isnull().sum()"
   ]
  },
  {
   "cell_type": "code",
   "execution_count": 9,
   "metadata": {},
   "outputs": [
    {
     "data": {
      "text/html": [
       "<div>\n",
       "<style scoped>\n",
       "    .dataframe tbody tr th:only-of-type {\n",
       "        vertical-align: middle;\n",
       "    }\n",
       "\n",
       "    .dataframe tbody tr th {\n",
       "        vertical-align: top;\n",
       "    }\n",
       "\n",
       "    .dataframe thead th {\n",
       "        text-align: right;\n",
       "    }\n",
       "</style>\n",
       "<table border=\"1\" class=\"dataframe\">\n",
       "  <thead>\n",
       "    <tr style=\"text-align: right;\">\n",
       "      <th></th>\n",
       "      <th>country</th>\n",
       "      <th>description</th>\n",
       "      <th>designation</th>\n",
       "      <th>points</th>\n",
       "      <th>price</th>\n",
       "      <th>province</th>\n",
       "      <th>region_1</th>\n",
       "      <th>region_2</th>\n",
       "      <th>variety</th>\n",
       "      <th>winery</th>\n",
       "    </tr>\n",
       "  </thead>\n",
       "  <tbody>\n",
       "    <tr>\n",
       "      <th>1133</th>\n",
       "      <td>NaN</td>\n",
       "      <td>Delicate white flowers and a spin of lemon pee...</td>\n",
       "      <td>Askitikos</td>\n",
       "      <td>90</td>\n",
       "      <td>17.0</td>\n",
       "      <td>NaN</td>\n",
       "      <td>NaN</td>\n",
       "      <td>NaN</td>\n",
       "      <td>Assyrtiko</td>\n",
       "      <td>Tsililis</td>\n",
       "    </tr>\n",
       "    <tr>\n",
       "      <th>1440</th>\n",
       "      <td>NaN</td>\n",
       "      <td>A blend of 60% Syrah, 30% Cabernet Sauvignon a...</td>\n",
       "      <td>Shah</td>\n",
       "      <td>90</td>\n",
       "      <td>30.0</td>\n",
       "      <td>NaN</td>\n",
       "      <td>NaN</td>\n",
       "      <td>NaN</td>\n",
       "      <td>Red Blend</td>\n",
       "      <td>Büyülübağ</td>\n",
       "    </tr>\n",
       "    <tr>\n",
       "      <th>68226</th>\n",
       "      <td>NaN</td>\n",
       "      <td>From first sniff to last, the nose never makes...</td>\n",
       "      <td>Piedra Feliz</td>\n",
       "      <td>81</td>\n",
       "      <td>15.0</td>\n",
       "      <td>NaN</td>\n",
       "      <td>NaN</td>\n",
       "      <td>NaN</td>\n",
       "      <td>Pinot Noir</td>\n",
       "      <td>Chilcas</td>\n",
       "    </tr>\n",
       "    <tr>\n",
       "      <th>113016</th>\n",
       "      <td>NaN</td>\n",
       "      <td>From first sniff to last, the nose never makes...</td>\n",
       "      <td>Piedra Feliz</td>\n",
       "      <td>81</td>\n",
       "      <td>15.0</td>\n",
       "      <td>NaN</td>\n",
       "      <td>NaN</td>\n",
       "      <td>NaN</td>\n",
       "      <td>Pinot Noir</td>\n",
       "      <td>Chilcas</td>\n",
       "    </tr>\n",
       "    <tr>\n",
       "      <th>135696</th>\n",
       "      <td>NaN</td>\n",
       "      <td>From first sniff to last, the nose never makes...</td>\n",
       "      <td>Piedra Feliz</td>\n",
       "      <td>81</td>\n",
       "      <td>15.0</td>\n",
       "      <td>NaN</td>\n",
       "      <td>NaN</td>\n",
       "      <td>NaN</td>\n",
       "      <td>Pinot Noir</td>\n",
       "      <td>Chilcas</td>\n",
       "    </tr>\n",
       "  </tbody>\n",
       "</table>\n",
       "</div>"
      ],
      "text/plain": [
       "<div>\n",
       "<style scoped>\n",
       "    .dataframe tbody tr th:only-of-type {\n",
       "        vertical-align: middle;\n",
       "    }\n",
       "\n",
       "    .dataframe tbody tr th {\n",
       "        vertical-align: top;\n",
       "    }\n",
       "\n",
       "    .dataframe thead th {\n",
       "        text-align: right;\n",
       "    }\n",
       "</style>\n",
       "<table border=\"1\" class=\"dataframe\">\n",
       "  <thead>\n",
       "    <tr style=\"text-align: right;\">\n",
       "      <th></th>\n",
       "      <th>country</th>\n",
       "      <th>description</th>\n",
       "      <th>designation</th>\n",
       "      <th>points</th>\n",
       "      <th>price</th>\n",
       "      <th>province</th>\n",
       "      <th>region_1</th>\n",
       "      <th>region_2</th>\n",
       "      <th>variety</th>\n",
       "      <th>winery</th>\n",
       "    </tr>\n",
       "  </thead>\n",
       "  <tbody>\n",
       "    <tr>\n",
       "      <th>1133</th>\n",
       "      <td>NaN</td>\n",
       "      <td>Delicate white flowers and a spin of lemon pee...</td>\n",
       "      <td>Askitikos</td>\n",
       "      <td>90</td>\n",
       "      <td>17.0</td>\n",
       "      <td>NaN</td>\n",
       "      <td>NaN</td>\n",
       "      <td>NaN</td>\n",
       "      <td>Assyrtiko</td>\n",
       "      <td>Tsililis</td>\n",
       "    </tr>\n",
       "    <tr>\n",
       "      <th>1440</th>\n",
       "      <td>NaN</td>\n",
       "      <td>A blend of 60% Syrah, 30% Cabernet Sauvignon a...</td>\n",
       "      <td>Shah</td>\n",
       "      <td>90</td>\n",
       "      <td>30.0</td>\n",
       "      <td>NaN</td>\n",
       "      <td>NaN</td>\n",
       "      <td>NaN</td>\n",
       "      <td>Red Blend</td>\n",
       "      <td>Büyülübağ</td>\n",
       "    </tr>\n",
       "    <tr>\n",
       "      <th>68226</th>\n",
       "      <td>NaN</td>\n",
       "      <td>From first sniff to last, the nose never makes...</td>\n",
       "      <td>Piedra Feliz</td>\n",
       "      <td>81</td>\n",
       "      <td>15.0</td>\n",
       "      <td>NaN</td>\n",
       "      <td>NaN</td>\n",
       "      <td>NaN</td>\n",
       "      <td>Pinot Noir</td>\n",
       "      <td>Chilcas</td>\n",
       "    </tr>\n",
       "    <tr>\n",
       "      <th>113016</th>\n",
       "      <td>NaN</td>\n",
       "      <td>From first sniff to last, the nose never makes...</td>\n",
       "      <td>Piedra Feliz</td>\n",
       "      <td>81</td>\n",
       "      <td>15.0</td>\n",
       "      <td>NaN</td>\n",
       "      <td>NaN</td>\n",
       "      <td>NaN</td>\n",
       "      <td>Pinot Noir</td>\n",
       "      <td>Chilcas</td>\n",
       "    </tr>\n",
       "    <tr>\n",
       "      <th>135696</th>\n",
       "      <td>NaN</td>\n",
       "      <td>From first sniff to last, the nose never makes...</td>\n",
       "      <td>Piedra Feliz</td>\n",
       "      <td>81</td>\n",
       "      <td>15.0</td>\n",
       "      <td>NaN</td>\n",
       "      <td>NaN</td>\n",
       "      <td>NaN</td>\n",
       "      <td>Pinot Noir</td>\n",
       "      <td>Chilcas</td>\n",
       "    </tr>\n",
       "  </tbody>\n",
       "</table>\n",
       "</div>"
      ]
     },
     "execution_count": 9,
     "metadata": {},
     "output_type": "execute_result"
    }
   ],
   "source": [
    "reviews[(reviews.country.isnull()) | \n",
    "        (reviews.province.isnull())]"
   ]
  },
  {
   "cell_type": "code",
   "execution_count": 11,
   "metadata": {},
   "outputs": [],
   "source": [
    "reviews.dropna(subset=['country','province'], inplace=True)"
   ]
  },
  {
   "cell_type": "code",
   "execution_count": 10,
   "metadata": {},
   "outputs": [
    {
     "data": {
      "text/html": [
       "<div>\n",
       "<style scoped>\n",
       "    .dataframe tbody tr th:only-of-type {\n",
       "        vertical-align: middle;\n",
       "    }\n",
       "\n",
       "    .dataframe tbody tr th {\n",
       "        vertical-align: top;\n",
       "    }\n",
       "\n",
       "    .dataframe thead th {\n",
       "        text-align: right;\n",
       "    }\n",
       "</style>\n",
       "<table border=\"1\" class=\"dataframe\">\n",
       "  <thead>\n",
       "    <tr style=\"text-align: right;\">\n",
       "      <th></th>\n",
       "      <th>country</th>\n",
       "      <th>description</th>\n",
       "      <th>designation</th>\n",
       "      <th>points</th>\n",
       "      <th>price</th>\n",
       "      <th>province</th>\n",
       "      <th>region_1</th>\n",
       "      <th>region_2</th>\n",
       "      <th>variety</th>\n",
       "      <th>winery</th>\n",
       "    </tr>\n",
       "  </thead>\n",
       "  <tbody>\n",
       "    <tr>\n",
       "      <th>116256</th>\n",
       "      <td>US</td>\n",
       "      <td>A bit of residual sugar sticks out, rounding o...</td>\n",
       "      <td>NaN</td>\n",
       "      <td>88</td>\n",
       "      <td>13.0</td>\n",
       "      <td>Oregon</td>\n",
       "      <td>Oregon</td>\n",
       "      <td>Oregon Other</td>\n",
       "      <td>Pinot Gris</td>\n",
       "      <td>O'Reilly's</td>\n",
       "    </tr>\n",
       "    <tr>\n",
       "      <th>111143</th>\n",
       "      <td>Austria</td>\n",
       "      <td>Raspberries and bitter cherries, fresh red fru...</td>\n",
       "      <td>Saint Laurent</td>\n",
       "      <td>87</td>\n",
       "      <td>NaN</td>\n",
       "      <td>Niederösterreich</td>\n",
       "      <td>NaN</td>\n",
       "      <td>NaN</td>\n",
       "      <td>St. Laurent</td>\n",
       "      <td>R&amp;A; Pfaffl</td>\n",
       "    </tr>\n",
       "    <tr>\n",
       "      <th>95167</th>\n",
       "      <td>US</td>\n",
       "      <td>Bright cherry and vanilla aromas lead this plu...</td>\n",
       "      <td>NaN</td>\n",
       "      <td>86</td>\n",
       "      <td>25.0</td>\n",
       "      <td>New York</td>\n",
       "      <td>Finger Lakes</td>\n",
       "      <td>Finger Lakes</td>\n",
       "      <td>Cabernet Franc</td>\n",
       "      <td>Shaw</td>\n",
       "    </tr>\n",
       "    <tr>\n",
       "      <th>46485</th>\n",
       "      <td>US</td>\n",
       "      <td>Soft and sugary sweet, with spicy black raspbe...</td>\n",
       "      <td>NaN</td>\n",
       "      <td>83</td>\n",
       "      <td>20.0</td>\n",
       "      <td>California</td>\n",
       "      <td>Paso Robles</td>\n",
       "      <td>Central Coast</td>\n",
       "      <td>Cabernet Sauvignon</td>\n",
       "      <td>Calcareous</td>\n",
       "    </tr>\n",
       "    <tr>\n",
       "      <th>71085</th>\n",
       "      <td>US</td>\n",
       "      <td>Rich and decadent, this Cab is made in the rip...</td>\n",
       "      <td>NaN</td>\n",
       "      <td>88</td>\n",
       "      <td>40.0</td>\n",
       "      <td>California</td>\n",
       "      <td>Napa Valley</td>\n",
       "      <td>Napa</td>\n",
       "      <td>Cabernet Sauvignon</td>\n",
       "      <td>Coniglio</td>\n",
       "    </tr>\n",
       "    <tr>\n",
       "      <th>28120</th>\n",
       "      <td>Italy</td>\n",
       "      <td>Pretty aromas of blue flower, rose, wild berry...</td>\n",
       "      <td>Coste di Rose</td>\n",
       "      <td>91</td>\n",
       "      <td>90.0</td>\n",
       "      <td>Piedmont</td>\n",
       "      <td>Barolo</td>\n",
       "      <td>NaN</td>\n",
       "      <td>Nebbiolo</td>\n",
       "      <td>Marchesi di Barolo</td>\n",
       "    </tr>\n",
       "    <tr>\n",
       "      <th>86639</th>\n",
       "      <td>Spain</td>\n",
       "      <td>Banana, lemon curd and sawdust are the prime a...</td>\n",
       "      <td>NaN</td>\n",
       "      <td>86</td>\n",
       "      <td>14.0</td>\n",
       "      <td>Northern Spain</td>\n",
       "      <td>Navarra</td>\n",
       "      <td>NaN</td>\n",
       "      <td>Chardonnay</td>\n",
       "      <td>Vega Sindoa</td>\n",
       "    </tr>\n",
       "    <tr>\n",
       "      <th>136134</th>\n",
       "      <td>US</td>\n",
       "      <td>You'll find some peach and apple flavors in th...</td>\n",
       "      <td>Unoaked</td>\n",
       "      <td>83</td>\n",
       "      <td>13.0</td>\n",
       "      <td>California</td>\n",
       "      <td>El Dorado</td>\n",
       "      <td>Sierra Foothills</td>\n",
       "      <td>Chardonnay</td>\n",
       "      <td>Sierra Vista</td>\n",
       "    </tr>\n",
       "    <tr>\n",
       "      <th>75813</th>\n",
       "      <td>US</td>\n",
       "      <td>Black pepper and acidity, compounded by a lack...</td>\n",
       "      <td>Winemaker's Reserve</td>\n",
       "      <td>81</td>\n",
       "      <td>13.0</td>\n",
       "      <td>California</td>\n",
       "      <td>California</td>\n",
       "      <td>California Other</td>\n",
       "      <td>Red Blend</td>\n",
       "      <td>Kitchen Sink</td>\n",
       "    </tr>\n",
       "    <tr>\n",
       "      <th>117907</th>\n",
       "      <td>US</td>\n",
       "      <td>Keller enters the big leagues with this marvel...</td>\n",
       "      <td>La Cruz Vineyard</td>\n",
       "      <td>91</td>\n",
       "      <td>40.0</td>\n",
       "      <td>California</td>\n",
       "      <td>Sonoma Coast</td>\n",
       "      <td>Sonoma</td>\n",
       "      <td>Pinot Noir</td>\n",
       "      <td>Keller Estate</td>\n",
       "    </tr>\n",
       "  </tbody>\n",
       "</table>\n",
       "</div>"
      ],
      "text/plain": [
       "<div>\n",
       "<style scoped>\n",
       "    .dataframe tbody tr th:only-of-type {\n",
       "        vertical-align: middle;\n",
       "    }\n",
       "\n",
       "    .dataframe tbody tr th {\n",
       "        vertical-align: top;\n",
       "    }\n",
       "\n",
       "    .dataframe thead th {\n",
       "        text-align: right;\n",
       "    }\n",
       "</style>\n",
       "<table border=\"1\" class=\"dataframe\">\n",
       "  <thead>\n",
       "    <tr style=\"text-align: right;\">\n",
       "      <th></th>\n",
       "      <th>country</th>\n",
       "      <th>description</th>\n",
       "      <th>designation</th>\n",
       "      <th>points</th>\n",
       "      <th>price</th>\n",
       "      <th>province</th>\n",
       "      <th>region_1</th>\n",
       "      <th>region_2</th>\n",
       "      <th>variety</th>\n",
       "      <th>winery</th>\n",
       "    </tr>\n",
       "  </thead>\n",
       "  <tbody>\n",
       "    <tr>\n",
       "      <th>116256</th>\n",
       "      <td>US</td>\n",
       "      <td>A bit of residual sugar sticks out, rounding o...</td>\n",
       "      <td>NaN</td>\n",
       "      <td>88</td>\n",
       "      <td>13.0</td>\n",
       "      <td>Oregon</td>\n",
       "      <td>Oregon</td>\n",
       "      <td>Oregon Other</td>\n",
       "      <td>Pinot Gris</td>\n",
       "      <td>O'Reilly's</td>\n",
       "    </tr>\n",
       "    <tr>\n",
       "      <th>111143</th>\n",
       "      <td>Austria</td>\n",
       "      <td>Raspberries and bitter cherries, fresh red fru...</td>\n",
       "      <td>Saint Laurent</td>\n",
       "      <td>87</td>\n",
       "      <td>NaN</td>\n",
       "      <td>Niederösterreich</td>\n",
       "      <td>NaN</td>\n",
       "      <td>NaN</td>\n",
       "      <td>St. Laurent</td>\n",
       "      <td>R&amp;A; Pfaffl</td>\n",
       "    </tr>\n",
       "    <tr>\n",
       "      <th>95167</th>\n",
       "      <td>US</td>\n",
       "      <td>Bright cherry and vanilla aromas lead this plu...</td>\n",
       "      <td>NaN</td>\n",
       "      <td>86</td>\n",
       "      <td>25.0</td>\n",
       "      <td>New York</td>\n",
       "      <td>Finger Lakes</td>\n",
       "      <td>Finger Lakes</td>\n",
       "      <td>Cabernet Franc</td>\n",
       "      <td>Shaw</td>\n",
       "    </tr>\n",
       "    <tr>\n",
       "      <th>46485</th>\n",
       "      <td>US</td>\n",
       "      <td>Soft and sugary sweet, with spicy black raspbe...</td>\n",
       "      <td>NaN</td>\n",
       "      <td>83</td>\n",
       "      <td>20.0</td>\n",
       "      <td>California</td>\n",
       "      <td>Paso Robles</td>\n",
       "      <td>Central Coast</td>\n",
       "      <td>Cabernet Sauvignon</td>\n",
       "      <td>Calcareous</td>\n",
       "    </tr>\n",
       "    <tr>\n",
       "      <th>71085</th>\n",
       "      <td>US</td>\n",
       "      <td>Rich and decadent, this Cab is made in the rip...</td>\n",
       "      <td>NaN</td>\n",
       "      <td>88</td>\n",
       "      <td>40.0</td>\n",
       "      <td>California</td>\n",
       "      <td>Napa Valley</td>\n",
       "      <td>Napa</td>\n",
       "      <td>Cabernet Sauvignon</td>\n",
       "      <td>Coniglio</td>\n",
       "    </tr>\n",
       "    <tr>\n",
       "      <th>28120</th>\n",
       "      <td>Italy</td>\n",
       "      <td>Pretty aromas of blue flower, rose, wild berry...</td>\n",
       "      <td>Coste di Rose</td>\n",
       "      <td>91</td>\n",
       "      <td>90.0</td>\n",
       "      <td>Piedmont</td>\n",
       "      <td>Barolo</td>\n",
       "      <td>NaN</td>\n",
       "      <td>Nebbiolo</td>\n",
       "      <td>Marchesi di Barolo</td>\n",
       "    </tr>\n",
       "    <tr>\n",
       "      <th>86639</th>\n",
       "      <td>Spain</td>\n",
       "      <td>Banana, lemon curd and sawdust are the prime a...</td>\n",
       "      <td>NaN</td>\n",
       "      <td>86</td>\n",
       "      <td>14.0</td>\n",
       "      <td>Northern Spain</td>\n",
       "      <td>Navarra</td>\n",
       "      <td>NaN</td>\n",
       "      <td>Chardonnay</td>\n",
       "      <td>Vega Sindoa</td>\n",
       "    </tr>\n",
       "    <tr>\n",
       "      <th>136134</th>\n",
       "      <td>US</td>\n",
       "      <td>You'll find some peach and apple flavors in th...</td>\n",
       "      <td>Unoaked</td>\n",
       "      <td>83</td>\n",
       "      <td>13.0</td>\n",
       "      <td>California</td>\n",
       "      <td>El Dorado</td>\n",
       "      <td>Sierra Foothills</td>\n",
       "      <td>Chardonnay</td>\n",
       "      <td>Sierra Vista</td>\n",
       "    </tr>\n",
       "    <tr>\n",
       "      <th>75813</th>\n",
       "      <td>US</td>\n",
       "      <td>Black pepper and acidity, compounded by a lack...</td>\n",
       "      <td>Winemaker's Reserve</td>\n",
       "      <td>81</td>\n",
       "      <td>13.0</td>\n",
       "      <td>California</td>\n",
       "      <td>California</td>\n",
       "      <td>California Other</td>\n",
       "      <td>Red Blend</td>\n",
       "      <td>Kitchen Sink</td>\n",
       "    </tr>\n",
       "    <tr>\n",
       "      <th>117907</th>\n",
       "      <td>US</td>\n",
       "      <td>Keller enters the big leagues with this marvel...</td>\n",
       "      <td>La Cruz Vineyard</td>\n",
       "      <td>91</td>\n",
       "      <td>40.0</td>\n",
       "      <td>California</td>\n",
       "      <td>Sonoma Coast</td>\n",
       "      <td>Sonoma</td>\n",
       "      <td>Pinot Noir</td>\n",
       "      <td>Keller Estate</td>\n",
       "    </tr>\n",
       "  </tbody>\n",
       "</table>\n",
       "</div>"
      ]
     },
     "execution_count": 10,
     "metadata": {},
     "output_type": "execute_result"
    }
   ],
   "source": [
    "reviews.sample(10)"
   ]
  },
  {
   "cell_type": "code",
   "execution_count": 14,
   "metadata": {},
   "outputs": [
    {
     "data": {
      "text/plain": [
       "25055"
      ]
     },
     "execution_count": 14,
     "metadata": {},
     "output_type": "execute_result"
    }
   ],
   "source": [
    "reviews.region_1.isnull().sum()"
   ]
  },
  {
   "cell_type": "code",
   "execution_count": 15,
   "metadata": {},
   "outputs": [],
   "source": [
    "reviews.region_1.fillna('unknown', inplace=True)"
   ]
  },
  {
   "cell_type": "code",
   "execution_count": 16,
   "metadata": {},
   "outputs": [],
   "source": [
    "reviews.region_2.replace(np.nan, 'unknown', inplace=True)"
   ]
  },
  {
   "cell_type": "code",
   "execution_count": 17,
   "metadata": {},
   "outputs": [],
   "source": [
    "reviews.reset_index(drop=True, inplace=True)"
   ]
  },
  {
   "cell_type": "code",
   "execution_count": 23,
   "metadata": {},
   "outputs": [
    {
     "data": {
      "text/plain": [
       "count    137230.000000\nmean         33.132019\nstd          36.323072\nmin           4.000000\n25%          16.000000\n50%          24.000000\n75%          40.000000\nmax        2300.000000\nName: price, dtype: float64"
      ]
     },
     "execution_count": 23,
     "metadata": {},
     "output_type": "execute_result"
    }
   ],
   "source": [
    "# Fix price !!\n",
    "\n",
    "# reviews['price'].plot(kind='hist', bins=20)\n",
    "# reviews['price'].describe()\n",
    "# reviews['price'].value_counts()\n"
   ]
  },
  {
   "cell_type": "code",
   "execution_count": 27,
   "metadata": {},
   "outputs": [
    {
     "data": {
      "text/plain": [
       "101895"
      ]
     },
     "execution_count": 27,
     "metadata": {},
     "output_type": "execute_result"
    }
   ],
   "source": [
    "# len(reviews[reviews['price']>40])  #31317\n",
    "\n",
    "len(reviews[reviews['price']<40])  #101895"
   ]
  },
  {
   "cell_type": "code",
   "execution_count": 28,
   "metadata": {},
   "outputs": [
    {
     "name": "stdout",
     "output_type": "stream",
     "text": [
      "<class 'pandas.core.frame.DataFrame'>\nRangeIndex: 150925 entries, 0 to 150924\nData columns (total 10 columns):\ncountry        150925 non-null object\ndescription    150925 non-null object\ndesignation    105190 non-null object\npoints         150925 non-null int64\nprice          137230 non-null float64\nprovince       150925 non-null object\nregion_1       150925 non-null object\nregion_2       150925 non-null object\nvariety        150925 non-null object\nwinery         150925 non-null object\ndtypes: float64(1), int64(1), object(8)\nmemory usage: 11.5+ MB\n"
     ]
    }
   ],
   "source": [
    "reviews.info()"
   ]
  },
  {
   "cell_type": "code",
   "execution_count": 29,
   "metadata": {},
   "outputs": [],
   "source": [
    "# remove wines > $40 and create a new df\n",
    "\n",
    "reviews_pr = reviews.loc[reviews['price'] < 40].copy()"
   ]
  },
  {
   "cell_type": "code",
   "execution_count": 33,
   "metadata": {},
   "outputs": [
    {
     "name": "stdout",
     "output_type": "stream",
     "text": [
      "<class 'pandas.core.frame.DataFrame'>\nRangeIndex: 101895 entries, 0 to 101894\nData columns (total 10 columns):\ncountry        101895 non-null object\ndescription    101895 non-null object\ndesignation    66059 non-null object\npoints         101895 non-null int64\nprice          101895 non-null float64\nprovince       101895 non-null object\nregion_1       101895 non-null object\nregion_2       101895 non-null object\nvariety        101895 non-null object\nwinery         101895 non-null object\ndtypes: float64(1), int64(1), object(8)\nmemory usage: 7.8+ MB\n"
     ]
    }
   ],
   "source": [
    "reviews_pr.info()"
   ]
  },
  {
   "cell_type": "code",
   "execution_count": 32,
   "metadata": {},
   "outputs": [],
   "source": [
    "reviews_pr.reset_index(drop=True, inplace=True)"
   ]
  },
  {
   "cell_type": "code",
   "execution_count": 41,
   "metadata": {},
   "outputs": [
    {
     "data": {
      "text/plain": [
       "False"
      ]
     },
     "execution_count": 41,
     "metadata": {},
     "output_type": "execute_result"
    }
   ],
   "source": [
    "reviews_pr.province.is_unique"
   ]
  },
  {
   "cell_type": "code",
   "execution_count": 42,
   "metadata": {},
   "outputs": [],
   "source": [
    "reviews_noDup = reviews_pr.drop_duplicates()"
   ]
  },
  {
   "cell_type": "code",
   "execution_count": 47,
   "metadata": {},
   "outputs": [
    {
     "name": "stdout",
     "output_type": "stream",
     "text": [
      "<class 'pandas.core.frame.DataFrame'>\nRangeIndex: 65503 entries, 0 to 65502\nData columns (total 10 columns):\ncountry        65503 non-null object\ndescription    65503 non-null object\ndesignation    42228 non-null object\npoints         65503 non-null int64\nprice          65503 non-null float64\nprovince       65503 non-null object\nregion_1       65503 non-null object\nregion_2       65503 non-null object\nvariety        65503 non-null object\nwinery         65503 non-null object\ndtypes: float64(1), int64(1), object(8)\nmemory usage: 5.0+ MB\n"
     ]
    }
   ],
   "source": [
    "reviews_noDup.info()"
   ]
  },
  {
   "cell_type": "code",
   "execution_count": 46,
   "metadata": {},
   "outputs": [],
   "source": [
    "reviews_noDup.reset_index(drop=True, inplace=True)"
   ]
  },
  {
   "cell_type": "code",
   "execution_count": 51,
   "metadata": {},
   "outputs": [
    {
     "name": "stderr",
     "output_type": "stream",
     "text": [
      "C:\\Users\\manoj\\PycharmProjects\\Basics\\venv\\lib\\site-packages\\pandas\\core\\indexing.py:543: SettingWithCopyWarning: \nA value is trying to be set on a copy of a slice from a DataFrame.\nTry using .loc[row_indexer,col_indexer] = value instead\n\nSee the caveats in the documentation: http://pandas.pydata.org/pandas-docs/stable/indexing.html#indexing-view-versus-copy\n  self.obj[item] = s\n"
     ]
    }
   ],
   "source": [
    "# log scaling\n",
    "\n",
    "# reviews_noDup.var()\n",
    "\n",
    "reviews_noDup.loc[:,'price_log'] = np.log(\n",
    "    reviews_noDup['price'])\n"
   ]
  },
  {
   "cell_type": "code",
   "execution_count": 52,
   "metadata": {},
   "outputs": [
    {
     "data": {
      "text/plain": [
       "points       7.620576\nprice_log    0.173753\ndtype: float64"
      ]
     },
     "execution_count": 52,
     "metadata": {},
     "output_type": "execute_result"
    }
   ],
   "source": [
    "reviews_noDup[['points','price_log']].var()"
   ]
  },
  {
   "cell_type": "code",
   "execution_count": null,
   "metadata": {},
   "outputs": [],
   "source": []
  }
 ],
 "metadata": {
  "kernelspec": {
   "display_name": "Python 2",
   "language": "python",
   "name": "python2"
  },
  "language_info": {
   "codemirror_mode": {
    "name": "ipython",
    "version": 2
   },
   "file_extension": ".py",
   "mimetype": "text/x-python",
   "name": "python",
   "nbconvert_exporter": "python",
   "pygments_lexer": "ipython2",
   "version": "2.7.6"
  }
 },
 "nbformat": 4,
 "nbformat_minor": 0
}
