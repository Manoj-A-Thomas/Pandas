{
 "cells": [
  {
   "cell_type": "code",
   "execution_count": 52,
   "metadata": {
    "collapsed": true
   },
   "outputs": [],
   "source": [
    "import pandas as pd\n",
    "import matplotlib.pyplot as plt"
   ]
  },
  {
   "cell_type": "code",
   "execution_count": 35,
   "metadata": {},
   "outputs": [],
   "source": [
    "sol = pd.read_csv('2017-2018-school-test-by-test.csv')"
   ]
  },
  {
   "cell_type": "code",
   "execution_count": 36,
   "metadata": {},
   "outputs": [
    {
     "name": "stdout",
     "output_type": "stream",
     "text": [
      "<class 'pandas.core.frame.DataFrame'>\nRangeIndex: 19202 entries, 0 to 19201\nData columns (total 17 columns):\nLEVEL                      19202 non-null object\nDiv Num                    19202 non-null int64\nDiv Name                   19202 non-null object\nSch Num                    19202 non-null int64\nSch Name                   19202 non-null object\nSch Type                   19202 non-null object\nLow Grade                  19202 non-null object\nHigh Grade                 19202 non-null int64\nSubject                    19202 non-null object\nGrade                      19202 non-null object\nTest                       19202 non-null object\n2015-2016 Pass Rate        18386 non-null object\n2016-2017 Pass Rate        18305 non-null object\n2017-2018 Pass Rate        18340 non-null object\n2015-2016 Adv Pass Rate    18386 non-null object\n2016-2017 Adv Pass Rate    18305 non-null object\n2017-2018 Adv Pass Rate    18340 non-null object\ndtypes: int64(3), object(14)\nmemory usage: 2.5+ MB\n"
     ]
    }
   ],
   "source": [
    "sol.info()"
   ]
  },
  {
   "cell_type": "code",
   "execution_count": 37,
   "metadata": {},
   "outputs": [
    {
     "data": {
      "text/plain": [
       "(19202, 17)"
      ]
     },
     "execution_count": 37,
     "metadata": {},
     "output_type": "execute_result"
    }
   ],
   "source": [
    "sol.shape"
   ]
  },
  {
   "cell_type": "code",
   "execution_count": 38,
   "metadata": {},
   "outputs": [],
   "source": [
    "sol.dtypes\n",
    "sol = sol.rename(columns={'2017-2018 Adv Pass Rate':'2017-2018AdvPassRate'})"
   ]
  },
  {
   "cell_type": "code",
   "execution_count": 39,
   "metadata": {},
   "outputs": [
    {
     "data": {
      "text/html": [
       "<div>\n",
       "<style scoped>\n",
       "    .dataframe tbody tr th:only-of-type {\n",
       "        vertical-align: middle;\n",
       "    }\n",
       "\n",
       "    .dataframe tbody tr th {\n",
       "        vertical-align: top;\n",
       "    }\n",
       "\n",
       "    .dataframe thead th {\n",
       "        text-align: right;\n",
       "    }\n",
       "</style>\n",
       "<table border=\"1\" class=\"dataframe\">\n",
       "  <thead>\n",
       "    <tr style=\"text-align: right;\">\n",
       "      <th></th>\n",
       "      <th>Div Num</th>\n",
       "      <th>Sch Num</th>\n",
       "      <th>High Grade</th>\n",
       "    </tr>\n",
       "  </thead>\n",
       "  <tbody>\n",
       "    <tr>\n",
       "      <th>count</th>\n",
       "      <td>19202.000000</td>\n",
       "      <td>19202.000000</td>\n",
       "      <td>19202.000000</td>\n",
       "    </tr>\n",
       "    <tr>\n",
       "      <th>mean</th>\n",
       "      <td>68.054890</td>\n",
       "      <td>573.071659</td>\n",
       "      <td>7.418446</td>\n",
       "    </tr>\n",
       "    <tr>\n",
       "      <th>std</th>\n",
       "      <td>41.673612</td>\n",
       "      <td>559.438653</td>\n",
       "      <td>2.739367</td>\n",
       "    </tr>\n",
       "    <tr>\n",
       "      <th>min</th>\n",
       "      <td>1.000000</td>\n",
       "      <td>10.000000</td>\n",
       "      <td>3.000000</td>\n",
       "    </tr>\n",
       "    <tr>\n",
       "      <th>25%</th>\n",
       "      <td>29.000000</td>\n",
       "      <td>190.000000</td>\n",
       "      <td>5.000000</td>\n",
       "    </tr>\n",
       "    <tr>\n",
       "      <th>50%</th>\n",
       "      <td>68.000000</td>\n",
       "      <td>440.000000</td>\n",
       "      <td>6.000000</td>\n",
       "    </tr>\n",
       "    <tr>\n",
       "      <th>75%</th>\n",
       "      <td>108.000000</td>\n",
       "      <td>780.000000</td>\n",
       "      <td>8.000000</td>\n",
       "    </tr>\n",
       "    <tr>\n",
       "      <th>max</th>\n",
       "      <td>207.000000</td>\n",
       "      <td>9020.000000</td>\n",
       "      <td>12.000000</td>\n",
       "    </tr>\n",
       "  </tbody>\n",
       "</table>\n",
       "</div>"
      ],
      "text/plain": [
       "<div>\n",
       "<style scoped>\n",
       "    .dataframe tbody tr th:only-of-type {\n",
       "        vertical-align: middle;\n",
       "    }\n",
       "\n",
       "    .dataframe tbody tr th {\n",
       "        vertical-align: top;\n",
       "    }\n",
       "\n",
       "    .dataframe thead th {\n",
       "        text-align: right;\n",
       "    }\n",
       "</style>\n",
       "<table border=\"1\" class=\"dataframe\">\n",
       "  <thead>\n",
       "    <tr style=\"text-align: right;\">\n",
       "      <th></th>\n",
       "      <th>Div Num</th>\n",
       "      <th>Sch Num</th>\n",
       "      <th>High Grade</th>\n",
       "    </tr>\n",
       "  </thead>\n",
       "  <tbody>\n",
       "    <tr>\n",
       "      <th>count</th>\n",
       "      <td>19202.000000</td>\n",
       "      <td>19202.000000</td>\n",
       "      <td>19202.000000</td>\n",
       "    </tr>\n",
       "    <tr>\n",
       "      <th>mean</th>\n",
       "      <td>68.054890</td>\n",
       "      <td>573.071659</td>\n",
       "      <td>7.418446</td>\n",
       "    </tr>\n",
       "    <tr>\n",
       "      <th>std</th>\n",
       "      <td>41.673612</td>\n",
       "      <td>559.438653</td>\n",
       "      <td>2.739367</td>\n",
       "    </tr>\n",
       "    <tr>\n",
       "      <th>min</th>\n",
       "      <td>1.000000</td>\n",
       "      <td>10.000000</td>\n",
       "      <td>3.000000</td>\n",
       "    </tr>\n",
       "    <tr>\n",
       "      <th>25%</th>\n",
       "      <td>29.000000</td>\n",
       "      <td>190.000000</td>\n",
       "      <td>5.000000</td>\n",
       "    </tr>\n",
       "    <tr>\n",
       "      <th>50%</th>\n",
       "      <td>68.000000</td>\n",
       "      <td>440.000000</td>\n",
       "      <td>6.000000</td>\n",
       "    </tr>\n",
       "    <tr>\n",
       "      <th>75%</th>\n",
       "      <td>108.000000</td>\n",
       "      <td>780.000000</td>\n",
       "      <td>8.000000</td>\n",
       "    </tr>\n",
       "    <tr>\n",
       "      <th>max</th>\n",
       "      <td>207.000000</td>\n",
       "      <td>9020.000000</td>\n",
       "      <td>12.000000</td>\n",
       "    </tr>\n",
       "  </tbody>\n",
       "</table>\n",
       "</div>"
      ]
     },
     "execution_count": 39,
     "metadata": {},
     "output_type": "execute_result"
    }
   ],
   "source": [
    "sol.describe()"
   ]
  },
  {
   "cell_type": "code",
   "execution_count": 40,
   "metadata": {},
   "outputs": [
    {
     "name": "stdout",
     "output_type": "stream",
     "text": [
      "  LEVEL  Div Num          Div Name  Sch Num               Sch Name Sch Type  \\\n0   SCH        1  Accomack County       701  Accawmacke Elementary     Elem   \n1   SCH        1  Accomack County       701  Accawmacke Elementary     Elem   \n2   SCH        1  Accomack County       701  Accawmacke Elementary     Elem   \n3   SCH        1  Accomack County       701  Accawmacke Elementary     Elem   \n4   SCH        1  Accomack County       701  Accawmacke Elementary     Elem   \n\n  Low Grade  High Grade                      Subject             Grade  \\\n0        PK           5             English: Reading              Gr 3   \n1        PK           5             English: Reading              Gr 4   \n2        PK           5             English: Reading              Gr 5   \n3        PK           5  History and Social Sciences              Gr 5   \n4        PK           5  History and Social Sciences  Content Specific   \n\n              Test 2015-2016 Pass Rate 2016-2017 Pass Rate  \\\n0  English Reading                  72                  70   \n1  English Reading                  61                  73   \n2  English Reading                  71                  67   \n3          History                   <                   <   \n4       VA Studies                  88                  85   \n\n  2017-2018 Pass Rate 2015-2016 Adv Pass Rate 2016-2017 Adv Pass Rate  \\\n0                  71                      13                      17   \n1                  64                      12                      10   \n2                  65                      20                      15   \n3                   <                       <                       <   \n4                  83                      43                      29   \n\n  2017-2018AdvPassRate  \n0                   12  \n1                   14  \n2                   13  \n3                    <  \n4                   28  \n"
     ]
    }
   ],
   "source": [
    "print(sol.head())\n"
   ]
  },
  {
   "cell_type": "code",
   "execution_count": 41,
   "metadata": {},
   "outputs": [
    {
     "name": "stdout",
     "output_type": "stream",
     "text": [
      "      LEVEL  Div Num      Div Name  Sch Num         Sch Name Sch Type  \\\n19197   SCH       98  York County        60  Yorktown Middle   Middle   \n19198   SCH       98  York County        60  Yorktown Middle   Middle   \n19199   SCH       98  York County        60  Yorktown Middle   Middle   \n19200   SCH       98  York County        60  Yorktown Middle   Middle   \n19201   SCH       98  York County        60  Yorktown Middle   Middle   \n\n      Low Grade  High Grade      Subject          Grade         Test  \\\n19197         6           8  Mathematics           Gr 7  Mathematics   \n19198         6           8  Mathematics           Gr 8  Mathematics   \n19199         6           8  Mathematics  End of Course    Algebra I   \n19200         6           8  Mathematics  End of Course     Geometry   \n19201         6           8      Science           Gr 8      Science   \n\n      2015-2016 Pass Rate 2016-2017 Pass Rate 2017-2018 Pass Rate  \\\n19197                  78                  80                  76   \n19198                  80                  77                  79   \n19199                  93                  95                  96   \n19200                 100                 100                 100   \n19201                  84                  85                  87   \n\n      2015-2016 Adv Pass Rate 2016-2017 Adv Pass Rate 2017-2018AdvPassRate  \n19197                       7                      10                    8  \n19198                       5                       4                    2  \n19199                       8                       3                    6  \n19200                      25                      24                   22  \n19201                       8                      12                    9  \n"
     ]
    }
   ],
   "source": [
    "print(sol.tail())"
   ]
  },
  {
   "cell_type": "code",
   "execution_count": 42,
   "metadata": {},
   "outputs": [
    {
     "name": "stdout",
     "output_type": "stream",
     "text": [
      "      LEVEL  Div Num              Div Name  Sch Num               Sch Name  \\\n16713   SCH       89      Stafford County       430    Mountain View High    \n4045    SCH       27     Dinwiddie County       520  Sutherland Elementary   \n17023   SCH      127         Suffolk City       300          Lakeland High   \n9473    SCH       52           Lee County       290      Pennington Middle   \n17691   SCH      128  Virginia Beach City       970        Larkspur Middle   \n\n      Sch Type Low Grade  High Grade                      Subject  \\\n16713     High         9          12                      Science   \n4045      Elem        KG           5  History and Social Sciences   \n17023     High         9          12                  Mathematics   \n9473    Middle         6           8                  Mathematics   \n17691   Middle         6           8             English: Reading   \n\n                  Grade             Test 2015-2016 Pass Rate  \\\n16713     End of Course    Earth Science                  92   \n4045   Content Specific       VA Studies                  98   \n17023     End of Course         Geometry                  70   \n9473               Gr 7      Mathematics                  81   \n17691              Gr 8  English Reading                  71   \n\n      2016-2017 Pass Rate 2017-2018 Pass Rate 2015-2016 Adv Pass Rate  \\\n16713                  92                  91                      12   \n4045                   92                  98                      57   \n17023                  65                  61                       2   \n9473                   71                  79                       6   \n17691                  76                  75                       7   \n\n      2016-2017 Adv Pass Rate 2017-2018AdvPassRate  \n16713                      11                   11  \n4045                       49                   68  \n17023                       2                    2  \n9473                        6                   13  \n17691                       9                    6  \n"
     ]
    }
   ],
   "source": [
    "print(sol.sample(5))"
   ]
  },
  {
   "cell_type": "code",
   "execution_count": 43,
   "metadata": {},
   "outputs": [
    {
     "name": "stdout",
     "output_type": "stream",
     "text": [
      "LEVEL                        0\nDiv Num                      0\nDiv Name                     0\nSch Num                      0\nSch Name                     0\nSch Type                     0\nLow Grade                    0\nHigh Grade                   0\nSubject                      0\nGrade                        0\nTest                         0\n2015-2016 Pass Rate        816\n2016-2017 Pass Rate        897\n2017-2018 Pass Rate        862\n2015-2016 Adv Pass Rate    816\n2016-2017 Adv Pass Rate    897\n2017-2018AdvPassRate       862\ndtype: int64\n"
     ]
    }
   ],
   "source": [
    "print(sol.isnull().sum())"
   ]
  },
  {
   "cell_type": "code",
   "execution_count": 44,
   "metadata": {
    "collapsed": false
   },
   "outputs": [
    {
     "name": "stdout",
     "output_type": "stream",
     "text": [
      "LEVEL                      19202\nDiv Num                    19202\nDiv Name                   19202\nSch Num                    19202\nSch Name                   19202\nSch Type                   19202\nLow Grade                  19202\nHigh Grade                 19202\nSubject                    19202\nGrade                      19202\nTest                       19202\n2015-2016 Pass Rate        18386\n2016-2017 Pass Rate        18305\n2017-2018 Pass Rate        18340\n2015-2016 Adv Pass Rate    18386\n2016-2017 Adv Pass Rate    18305\n2017-2018AdvPassRate       18340\ndtype: int64\n"
     ]
    }
   ],
   "source": [
    "print(sol.notnull().sum())"
   ]
  },
  {
   "cell_type": "code",
   "execution_count": 45,
   "metadata": {},
   "outputs": [],
   "source": [
    "sol = sol.rename(columns={'Div Num':'DivNum', 'Div Name':'DivName'})"
   ]
  },
  {
   "cell_type": "code",
   "execution_count": 47,
   "metadata": {
    "collapsed": true
   },
   "outputs": [
    {
     "name": "stdout",
     "output_type": "stream",
     "text": [
      "<class 'pandas.core.frame.DataFrame'>\nRangeIndex: 19202 entries, 0 to 19201\nData columns (total 17 columns):\nLEVEL                      19202 non-null object\nDivNum                     19202 non-null int64\nDivName                    19202 non-null object\nSch Num                    19202 non-null int64\nSch Name                   19202 non-null object\nSch Type                   19202 non-null object\nLow Grade                  19202 non-null object\nHigh Grade                 19202 non-null int64\nSubject                    19202 non-null object\nGrade                      19202 non-null object\nTest                       19202 non-null object\n2015-2016 Pass Rate        18386 non-null object\n2016-2017 Pass Rate        18305 non-null object\n2017-2018 Pass Rate        18340 non-null object\n2015-2016 Adv Pass Rate    18386 non-null object\n2016-2017 Adv Pass Rate    18305 non-null object\n2017-2018AdvPassRate       18340 non-null object\ndtypes: int64(3), object(14)\nmemory usage: 2.5+ MB\n"
     ]
    }
   ],
   "source": [
    "sol.info()"
   ]
  },
  {
   "cell_type": "code",
   "execution_count": 48,
   "metadata": {},
   "outputs": [
    {
     "name": "stdout",
     "output_type": "stream",
     "text": [
      "      LEVEL  DivNum           DivName  Sch Num                    Sch Name  \\\n5273    SCH      29   Fairfax County        90     Lake Braddock Secondary   \n2548    SCH     136  Chesapeake City       720     G.A. Treakle Elementary   \n7613    SCH      41   Halifax County      1490  Sydnor Jennings Elementary   \n8954    SCH      44     Henry County        10                Bassett High   \n14965   SCH     124     Roanoke City       370         Monterey Elementary   \n\n       Sch Type Low Grade  High Grade                      Subject  \\\n5273   Combined         7          12  History and Social Sciences   \n2548       Elem        PK           5             English: Reading   \n7613       Elem        KG           5                  Mathematics   \n8954       High         9          12                      Science   \n14965      Elem        PK           5                  Mathematics   \n\n               Grade             Test 2015-2016 Pass Rate 2016-2017 Pass Rate  \\\n5273   End of Course  World History I                  95                  94   \n2548            Gr 3  English Reading                  70                  77   \n7613            Gr 5      Mathematics                  83                  58   \n8954   End of Course        Chemistry                  85                  82   \n14965           Gr 5      Mathematics                  66                  87   \n\n      2017-2018 Pass Rate 2015-2016 Adv Pass Rate 2016-2017 Adv Pass Rate  \\\n5273                   93                      34                      36   \n2548                   65                       8                      14   \n7613                   63                       6                       8   \n8954                   88                       5                      13   \n14965                  78                      21                      23   \n\n      2017-2018AdvPassRate  \n5273                    35  \n2548                     4  \n7613                     7  \n8954                     9  \n14965                   30  \n"
     ]
    }
   ],
   "source": [
    "print(sol.sample(5))"
   ]
  },
  {
   "cell_type": "code",
   "execution_count": 49,
   "metadata": {},
   "outputs": [
    {
     "data": {
      "text/plain": [
       "array(['English Reading', 'History', 'VA Studies', 'Mathematics',\n       'Science', 'Writing', 'Geography', 'VA & US History',\n       'World History I', 'World History II', 'Algebra I', 'Algebra II',\n       'Geometry', 'Biology', 'Chemistry', 'Earth Science',\n       'Civics & Econ'], dtype=object)"
      ]
     },
     "execution_count": 49,
     "metadata": {},
     "output_type": "execute_result"
    }
   ],
   "source": [
    "sol['Test'].unique()"
   ]
  },
  {
   "cell_type": "code",
   "execution_count": 50,
   "metadata": {},
   "outputs": [
    {
     "data": {
      "text/plain": [
       "English Reading     5104\nMathematics         5024\nScience             1506\nVA Studies          1113\nHistory             1095\nWriting              732\nAlgebra I            711\nGeometry             635\nEarth Science        460\nAlgebra II           435\nCivics & Econ        401\nWorld History I      384\nBiology              357\nVA & US History      329\nChemistry            326\nWorld History II     316\nGeography            274\nName: Test, dtype: int64"
      ]
     },
     "execution_count": 50,
     "metadata": {},
     "output_type": "execute_result"
    }
   ],
   "source": [
    "sol['Test'].value_counts()"
   ]
  },
  {
   "cell_type": "code",
   "execution_count": null,
   "metadata": {},
   "outputs": [
    {
     "ename": "TypeError",
     "evalue": "Empty 'DataFrame': no numeric data to plot",
     "traceback": [
      "\u001b[0;31m---------------------------------------------------------------------------\u001b[0m",
      "\u001b[0;31mTypeError\u001b[0m                                 Traceback (most recent call last)",
      "\u001b[0;32m<ipython-input-53-0e5cfbc339e6>\u001b[0m in \u001b[0;36m<module>\u001b[0;34m()\u001b[0m\n\u001b[1;32m      1\u001b[0m \u001b[0;34m\u001b[0m\u001b[0m\n\u001b[0;32m----> 2\u001b[0;31m \u001b[0msol\u001b[0m\u001b[0;34m[\u001b[0m\u001b[0;34m'Test'\u001b[0m\u001b[0;34m]\u001b[0m\u001b[0;34m.\u001b[0m\u001b[0mplot\u001b[0m\u001b[0;34m(\u001b[0m\u001b[0;34m'hist'\u001b[0m\u001b[0;34m)\u001b[0m\u001b[0;34m\u001b[0m\u001b[0m\n\u001b[0m\u001b[1;32m      3\u001b[0m \u001b[0mplt\u001b[0m\u001b[0;34m.\u001b[0m\u001b[0mshow\u001b[0m\u001b[0;34m(\u001b[0m\u001b[0;34m)\u001b[0m\u001b[0;34m\u001b[0m\u001b[0m\n",
      "\u001b[0;32mC:\\Users\\manoj\\PycharmProjects\\Basics\\venv\\lib\\site-packages\\pandas\\plotting\\_core.py\u001b[0m in \u001b[0;36m__call__\u001b[0;34m(self, kind, ax, figsize, use_index, title, grid, legend, style, logx, logy, loglog, xticks, yticks, xlim, ylim, rot, fontsize, colormap, table, yerr, xerr, label, secondary_y, **kwds)\u001b[0m\n\u001b[1;32m   2739\u001b[0m                            \u001b[0mcolormap\u001b[0m\u001b[0;34m=\u001b[0m\u001b[0mcolormap\u001b[0m\u001b[0;34m,\u001b[0m \u001b[0mtable\u001b[0m\u001b[0;34m=\u001b[0m\u001b[0mtable\u001b[0m\u001b[0;34m,\u001b[0m \u001b[0myerr\u001b[0m\u001b[0;34m=\u001b[0m\u001b[0myerr\u001b[0m\u001b[0;34m,\u001b[0m\u001b[0;34m\u001b[0m\u001b[0m\n\u001b[1;32m   2740\u001b[0m                            \u001b[0mxerr\u001b[0m\u001b[0;34m=\u001b[0m\u001b[0mxerr\u001b[0m\u001b[0;34m,\u001b[0m \u001b[0mlabel\u001b[0m\u001b[0;34m=\u001b[0m\u001b[0mlabel\u001b[0m\u001b[0;34m,\u001b[0m \u001b[0msecondary_y\u001b[0m\u001b[0;34m=\u001b[0m\u001b[0msecondary_y\u001b[0m\u001b[0;34m,\u001b[0m\u001b[0;34m\u001b[0m\u001b[0m\n\u001b[0;32m-> 2741\u001b[0;31m                            **kwds)\n\u001b[0m\u001b[1;32m   2742\u001b[0m     \u001b[0m__call__\u001b[0m\u001b[0;34m.\u001b[0m\u001b[0m__doc__\u001b[0m \u001b[0;34m=\u001b[0m \u001b[0mplot_series\u001b[0m\u001b[0;34m.\u001b[0m\u001b[0m__doc__\u001b[0m\u001b[0;34m\u001b[0m\u001b[0m\n\u001b[1;32m   2743\u001b[0m \u001b[0;34m\u001b[0m\u001b[0m\n",
      "\u001b[0;32mC:\\Users\\manoj\\PycharmProjects\\Basics\\venv\\lib\\site-packages\\pandas\\plotting\\_core.py\u001b[0m in \u001b[0;36mplot_series\u001b[0;34m(data, kind, ax, figsize, use_index, title, grid, legend, style, logx, logy, loglog, xticks, yticks, xlim, ylim, rot, fontsize, colormap, table, yerr, xerr, label, secondary_y, **kwds)\u001b[0m\n\u001b[1;32m   2000\u001b[0m                  \u001b[0myerr\u001b[0m\u001b[0;34m=\u001b[0m\u001b[0myerr\u001b[0m\u001b[0;34m,\u001b[0m \u001b[0mxerr\u001b[0m\u001b[0;34m=\u001b[0m\u001b[0mxerr\u001b[0m\u001b[0;34m,\u001b[0m\u001b[0;34m\u001b[0m\u001b[0m\n\u001b[1;32m   2001\u001b[0m                  \u001b[0mlabel\u001b[0m\u001b[0;34m=\u001b[0m\u001b[0mlabel\u001b[0m\u001b[0;34m,\u001b[0m \u001b[0msecondary_y\u001b[0m\u001b[0;34m=\u001b[0m\u001b[0msecondary_y\u001b[0m\u001b[0;34m,\u001b[0m\u001b[0;34m\u001b[0m\u001b[0m\n\u001b[0;32m-> 2002\u001b[0;31m                  **kwds)\n\u001b[0m\u001b[1;32m   2003\u001b[0m \u001b[0;34m\u001b[0m\u001b[0m\n\u001b[1;32m   2004\u001b[0m \u001b[0;34m\u001b[0m\u001b[0m\n",
      "\u001b[0;32mC:\\Users\\manoj\\PycharmProjects\\Basics\\venv\\lib\\site-packages\\pandas\\plotting\\_core.py\u001b[0m in \u001b[0;36m_plot\u001b[0;34m(data, x, y, subplots, ax, kind, **kwds)\u001b[0m\n\u001b[1;32m   1802\u001b[0m         \u001b[0mplot_obj\u001b[0m \u001b[0;34m=\u001b[0m \u001b[0mklass\u001b[0m\u001b[0;34m(\u001b[0m\u001b[0mdata\u001b[0m\u001b[0;34m,\u001b[0m \u001b[0msubplots\u001b[0m\u001b[0;34m=\u001b[0m\u001b[0msubplots\u001b[0m\u001b[0;34m,\u001b[0m \u001b[0max\u001b[0m\u001b[0;34m=\u001b[0m\u001b[0max\u001b[0m\u001b[0;34m,\u001b[0m \u001b[0mkind\u001b[0m\u001b[0;34m=\u001b[0m\u001b[0mkind\u001b[0m\u001b[0;34m,\u001b[0m \u001b[0;34m**\u001b[0m\u001b[0mkwds\u001b[0m\u001b[0;34m)\u001b[0m\u001b[0;34m\u001b[0m\u001b[0m\n\u001b[1;32m   1803\u001b[0m \u001b[0;34m\u001b[0m\u001b[0m\n\u001b[0;32m-> 1804\u001b[0;31m     \u001b[0mplot_obj\u001b[0m\u001b[0;34m.\u001b[0m\u001b[0mgenerate\u001b[0m\u001b[0;34m(\u001b[0m\u001b[0;34m)\u001b[0m\u001b[0;34m\u001b[0m\u001b[0m\n\u001b[0m\u001b[1;32m   1805\u001b[0m     \u001b[0mplot_obj\u001b[0m\u001b[0;34m.\u001b[0m\u001b[0mdraw\u001b[0m\u001b[0;34m(\u001b[0m\u001b[0;34m)\u001b[0m\u001b[0;34m\u001b[0m\u001b[0m\n\u001b[1;32m   1806\u001b[0m     \u001b[0;32mreturn\u001b[0m \u001b[0mplot_obj\u001b[0m\u001b[0;34m.\u001b[0m\u001b[0mresult\u001b[0m\u001b[0;34m\u001b[0m\u001b[0m\n",
      "\u001b[0;32mC:\\Users\\manoj\\PycharmProjects\\Basics\\venv\\lib\\site-packages\\pandas\\plotting\\_core.py\u001b[0m in \u001b[0;36mgenerate\u001b[0;34m(self)\u001b[0m\n\u001b[1;32m    256\u001b[0m     \u001b[0;32mdef\u001b[0m \u001b[0mgenerate\u001b[0m\u001b[0;34m(\u001b[0m\u001b[0mself\u001b[0m\u001b[0;34m)\u001b[0m\u001b[0;34m:\u001b[0m\u001b[0;34m\u001b[0m\u001b[0m\n\u001b[1;32m    257\u001b[0m         \u001b[0mself\u001b[0m\u001b[0;34m.\u001b[0m\u001b[0m_args_adjust\u001b[0m\u001b[0;34m(\u001b[0m\u001b[0;34m)\u001b[0m\u001b[0;34m\u001b[0m\u001b[0m\n\u001b[0;32m--> 258\u001b[0;31m         \u001b[0mself\u001b[0m\u001b[0;34m.\u001b[0m\u001b[0m_compute_plot_data\u001b[0m\u001b[0;34m(\u001b[0m\u001b[0;34m)\u001b[0m\u001b[0;34m\u001b[0m\u001b[0m\n\u001b[0m\u001b[1;32m    259\u001b[0m         \u001b[0mself\u001b[0m\u001b[0;34m.\u001b[0m\u001b[0m_setup_subplots\u001b[0m\u001b[0;34m(\u001b[0m\u001b[0;34m)\u001b[0m\u001b[0;34m\u001b[0m\u001b[0m\n\u001b[1;32m    260\u001b[0m         \u001b[0mself\u001b[0m\u001b[0;34m.\u001b[0m\u001b[0m_make_plot\u001b[0m\u001b[0;34m(\u001b[0m\u001b[0;34m)\u001b[0m\u001b[0;34m\u001b[0m\u001b[0m\n",
      "\u001b[0;32mC:\\Users\\manoj\\PycharmProjects\\Basics\\venv\\lib\\site-packages\\pandas\\plotting\\_core.py\u001b[0m in \u001b[0;36m_compute_plot_data\u001b[0;34m(self)\u001b[0m\n\u001b[1;32m    371\u001b[0m         \u001b[0;32mif\u001b[0m \u001b[0mis_empty\u001b[0m\u001b[0;34m:\u001b[0m\u001b[0;34m\u001b[0m\u001b[0m\n\u001b[1;32m    372\u001b[0m             raise TypeError('Empty {0!r}: no numeric data to '\n\u001b[0;32m--> 373\u001b[0;31m                             'plot'.format(numeric_data.__class__.__name__))\n\u001b[0m\u001b[1;32m    374\u001b[0m \u001b[0;34m\u001b[0m\u001b[0m\n\u001b[1;32m    375\u001b[0m         \u001b[0mself\u001b[0m\u001b[0;34m.\u001b[0m\u001b[0mdata\u001b[0m \u001b[0;34m=\u001b[0m \u001b[0mnumeric_data\u001b[0m\u001b[0;34m\u001b[0m\u001b[0m\n",
      "\u001b[0;31mTypeError\u001b[0m: Empty 'DataFrame': no numeric data to plot"
     ],
     "output_type": "error"
    }
   ],
   "source": [
    "sol['High Grade'].unique()\n"
   ]
  },
  {
   "cell_type": "code",
   "execution_count": 54,
   "metadata": {},
   "outputs": [
    {
     "data": {
      "text/plain": [
       "5     7747\n8     4469\n12    4310\n6     1836\n7      594\n4      174\n3       46\n9       26\nName: High Grade, dtype: int64"
      ]
     },
     "execution_count": 54,
     "metadata": {},
     "output_type": "execute_result"
    }
   ],
   "source": [
    "sol['High Grade'].value_counts()"
   ]
  },
  {
   "cell_type": "code",
   "execution_count": 55,
   "metadata": {},
   "outputs": [],
   "source": [
    "mapping={'English Reading':0,\n",
    "'Mathematics':1,\n",
    "'Science':2,\n",
    "'VA Studies': 3,\n",
    "'History':4,\n",
    "'Writing': 5,\n",
    "'Algebra I':6,\n",
    "'Geometry':7,\n",
    "'Earth Science':8,\n",
    "'Algebra II':9,\n",
    "'Civics & Econ':10,\n",
    "'World History I':11,\n",
    "'Biology':12,\n",
    "'VA & US History':13,\n",
    "'Chemistry':14,\n",
    "'World History II':15,\n",
    "'Geography':16}"
   ]
  },
  {
   "cell_type": "code",
   "execution_count": 56,
   "metadata": {},
   "outputs": [],
   "source": [
    "sol['Test'] = sol.Test.map(mapping)"
   ]
  },
  {
   "cell_type": "code",
   "execution_count": 57,
   "metadata": {},
   "outputs": [
    {
     "data": {
      "text/plain": [
       "array([ 0,  4,  3,  1,  2,  5, 16, 13, 11, 15,  6,  9,  7, 12, 14,  8, 10],\n      dtype=int64)"
      ]
     },
     "execution_count": 57,
     "metadata": {},
     "output_type": "execute_result"
    }
   ],
   "source": [
    "sol['Test'].unique()"
   ]
  },
  {
   "cell_type": "code",
   "execution_count": 58,
   "metadata": {},
   "outputs": [
    {
     "data": {
      "text/plain": [
       "0     5104\n1     5024\n2     1506\n3     1113\n4     1095\n5      732\n6      711\n7      635\n8      460\n9      435\n10     401\n11     384\n12     357\n13     329\n14     326\n15     316\n16     274\nName: Test, dtype: int64"
      ]
     },
     "execution_count": 58,
     "metadata": {},
     "output_type": "execute_result"
    }
   ],
   "source": [
    "sol['Test'].value_counts()"
   ]
  },
  {
   "cell_type": "code",
   "execution_count": 61,
   "metadata": {},
   "outputs": [],
   "source": [
    "import matplotlib.pyplot as plt\n"
   ]
  },
  {
   "cell_type": "code",
   "execution_count": 62,
   "metadata": {},
   "outputs": [],
   "source": [
    "sol['Test'] =sol['Test'].astype(int)"
   ]
  },
  {
   "cell_type": "code",
   "execution_count": 63,
   "metadata": {},
   "outputs": [],
   "source": [
    "sol['Test'].plot('hist')\n",
    "plt.show()"
   ]
  },
  {
   "cell_type": "code",
   "execution_count": 31,
   "metadata": {},
   "outputs": [
    {
     "data": {
      "text/plain": [
       "0"
      ]
     },
     "execution_count": 31,
     "metadata": {},
     "output_type": "execute_result"
    }
   ],
   "source": [
    "sol['Test'].isnull().sum()"
   ]
  },
  {
   "cell_type": "code",
   "execution_count": 33,
   "metadata": {},
   "outputs": [],
   "source": [
    "sol['Test'] = sol['Test'].astype(int)"
   ]
  },
  {
   "cell_type": "code",
   "execution_count": null,
   "metadata": {},
   "outputs": [],
   "source": []
  }
 ],
 "metadata": {
  "kernelspec": {
   "display_name": "Python 2",
   "language": "python",
   "name": "python2"
  },
  "language_info": {
   "codemirror_mode": {
    "name": "ipython",
    "version": 2
   },
   "file_extension": ".py",
   "mimetype": "text/x-python",
   "name": "python",
   "nbconvert_exporter": "python",
   "pygments_lexer": "ipython2",
   "version": "2.7.6"
  }
 },
 "nbformat": 4,
 "nbformat_minor": 0
}
